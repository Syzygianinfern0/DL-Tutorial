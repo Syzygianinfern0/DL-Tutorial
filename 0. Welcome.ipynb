{
 "cells": [
  {
   "cell_type": "markdown",
   "metadata": {},
   "source": [
    "# Welcome\n",
    "Hey guys... This is a tutorial on DL using TensorFlow. It's highly recommended that you have a look at my previous tutorials before proceeding and that you achieve good comfort with python and learn numpy, matplotlib and pandas before starting as it would then be better. \n",
    "\n",
    "Check out my tutorials for the same:\n",
    "* [Numpy](https://github.com/Syzygianinfern0/Numpy-Tutorial)\n",
    "* [Matplotlib](https://github.com/Syzygianinfern0/Matplotlib-Tutorial)\n",
    "* [Pandas](https://github.com/Syzygianinfern0/Pandas-Tutorial)\n",
    "* [ML using Sklearn](https://github.com/Syzygianinfern0/ML-Tutorial)"
   ]
  },
  {
   "cell_type": "markdown",
   "metadata": {},
   "source": [
    "You will require the following modules for python. You can get them from [PyPi](https://pypi.org/)\n",
    "\n",
    "\n",
    "* Numpy\n",
    "* Matplotlib\n",
    "* Pandas\n",
    "* Seaborns\n",
    "* Sklearn\n",
    "* Tensorflow"
   ]
  },
  {
   "cell_type": "markdown",
   "metadata": {},
   "source": [
    "Check out your Installation by running this cell"
   ]
  },
  {
   "cell_type": "code",
   "execution_count": 1,
   "metadata": {},
   "outputs": [],
   "source": [
    "import numpy as np\n",
    "import pandas as pd\n",
    "import matplotlib.pyplot as plt\n",
    "import sklearn\n",
    "import tensorflow as tf"
   ]
  },
  {
   "cell_type": "markdown",
   "metadata": {},
   "source": [
    "If you have not got any error upon this line then, you are ready to go"
   ]
  },
  {
   "cell_type": "markdown",
   "metadata": {},
   "source": [
    "## Note\n",
    "\n",
    "You will find this tutorial series much better if you follow along [This](https://www.coursera.org/learn/machine-learning) course. It's free and has very good explantion of algos. My series will be only about it's implementation in Python"
   ]
  }
 ],
 "metadata": {
  "kernelspec": {
   "display_name": "Python 3",
   "language": "python",
   "name": "python3"
  },
  "language_info": {
   "codemirror_mode": {
    "name": "ipython",
    "version": 3
   },
   "file_extension": ".py",
   "mimetype": "text/x-python",
   "name": "python",
   "nbconvert_exporter": "python",
   "pygments_lexer": "ipython3",
   "version": "3.7.3"
  }
 },
 "nbformat": 4,
 "nbformat_minor": 2
}
