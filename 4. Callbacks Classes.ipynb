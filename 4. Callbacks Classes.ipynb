{
 "cells": [
  {
   "cell_type": "markdown",
   "metadata": {},
   "source": [
    "# What are Callbacks?\n",
    "\n",
    "We can make something happen upon the attainment of a specific task. Such as stopping when the losses increase or stopping after a ddesired accuracy or optimizing the learing rate upin plataueing. The callbacks will be called at the end of each epoch. \n",
    "\n",
    "We need to mention them in the model fit line. \n",
    "\n",
    "We will use the Handwritten digits data set.\n",
    "\n",
    "#### Nothing will be explained as its all been done before. This is only for the callbacks code"
   ]
  },
  {
   "cell_type": "code",
   "execution_count": 1,
   "metadata": {},
   "outputs": [],
   "source": [
    "import tensorflow as tf\n",
    "from tensorflow import keras\n",
    "mnist = tf.keras.datasets.mnist\n",
    "\n",
    "(x_train, y_train),(x_test, y_test) = mnist.load_data()\n",
    "x_train, x_test = x_train / 255.0, x_test / 255.0\n"
   ]
  },
  {
   "cell_type": "code",
   "execution_count": 2,
   "metadata": {},
   "outputs": [],
   "source": [
    "class Callback(tf.keras.callbacks.Callback):\n",
    "  def on_epoch_end(self, epoch, logs={}):\n",
    "    if(logs.get('acc')>0.99):\n",
    "        self.model.stop_training = True\n",
    "        print(\"A whooping 99% Accuracy Bros!!\")\n",
    "              \n",
    "callbacks = Callback()"
   ]
  },
  {
   "cell_type": "code",
   "execution_count": 3,
   "metadata": {},
   "outputs": [
    {
     "name": "stdout",
     "output_type": "stream",
     "text": [
      "WARNING:tensorflow:From C:\\ProgramData\\Anaconda3\\lib\\site-packages\\tensorflow\\python\\ops\\resource_variable_ops.py:435: colocate_with (from tensorflow.python.framework.ops) is deprecated and will be removed in a future version.\n",
      "Instructions for updating:\n",
      "Colocations handled automatically by placer.\n",
      "Epoch 1/10\n",
      "60000/60000 [==============================] - 15s 244us/sample - loss: 0.2011 - acc: 0.9410\n",
      "Epoch 2/10\n",
      "60000/60000 [==============================] - 13s 222us/sample - loss: 0.0801 - acc: 0.9755\n",
      "Epoch 3/10\n",
      "60000/60000 [==============================] - 11s 191us/sample - loss: 0.0520 - acc: 0.9834\n",
      "Epoch 4/10\n",
      "60000/60000 [==============================] - 11s 186us/sample - loss: 0.0388 - acc: 0.9877\n",
      "Epoch 5/10\n",
      "59712/60000 [============================>.] - ETA: 0s - loss: 0.0265 - acc: 0.9915A whooping 99% Accuracy Bros!!\n",
      "60000/60000 [==============================] - 12s 197us/sample - loss: 0.0266 - acc: 0.9915\n"
     ]
    },
    {
     "data": {
      "text/plain": [
       "<tensorflow.python.keras.callbacks.History at 0x2551e2ea9e8>"
      ]
     },
     "execution_count": 3,
     "metadata": {},
     "output_type": "execute_result"
    }
   ],
   "source": [
    "model = keras.models.Sequential([\n",
    "                                      keras.layers.Flatten(input_shape = (28, 28)),\n",
    "                                      keras.layers.Dense(512, activation=tf.nn.relu),\n",
    "                                      tf.keras.layers.Dense(10, activation=tf.nn.softmax)\n",
    "                                ])\n",
    "\n",
    "\n",
    "model.compile(optimizer='adam',\n",
    "              loss='sparse_categorical_crossentropy',\n",
    "              metrics=['accuracy'])\n",
    "\n",
    "model.fit(x_train, y_train, epochs=10, callbacks=[callbacks])    # <<<------- This is the line which makes the difference"
   ]
  },
  {
   "cell_type": "code",
   "execution_count": 4,
   "metadata": {},
   "outputs": [
    {
     "name": "stdout",
     "output_type": "stream",
     "text": [
      "10000/10000 [==============================] - 0s 25us/sample - loss: 0.0718 - acc: 0.9790\n"
     ]
    },
    {
     "data": {
      "text/plain": [
       "[0.07181459891847917, 0.979]"
      ]
     },
     "execution_count": 4,
     "metadata": {},
     "output_type": "execute_result"
    }
   ],
   "source": [
    "model.evaluate(x_test, y_test)"
   ]
  },
  {
   "cell_type": "markdown",
   "metadata": {},
   "source": [
    "### Even though we had a 512 unit of a dense layer, overfitting was very less."
   ]
  }
 ],
 "metadata": {
  "kernelspec": {
   "display_name": "Python 3",
   "language": "python",
   "name": "python3"
  },
  "language_info": {
   "codemirror_mode": {
    "name": "ipython",
    "version": 3
   },
   "file_extension": ".py",
   "mimetype": "text/x-python",
   "name": "python",
   "nbconvert_exporter": "python",
   "pygments_lexer": "ipython3",
   "version": "3.7.3"
  }
 },
 "nbformat": 4,
 "nbformat_minor": 2
}
