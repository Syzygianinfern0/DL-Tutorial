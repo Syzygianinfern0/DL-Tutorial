{
 "cells": [
  {
   "cell_type": "markdown",
   "metadata": {},
   "source": [
    "# Intro\n",
    "We will be trying to classify the different thinigs we can find in the Fashion MNIST Database. A very popular one, this is a set of images containing different clothing items.\n",
    "\n",
    "Let's begin\n"
   ]
  },
  {
   "cell_type": "markdown",
   "metadata": {},
   "source": [
    "# Getting Started\n",
    "\n",
    "Importing required modules"
   ]
  },
  {
   "cell_type": "code",
   "execution_count": 1,
   "metadata": {},
   "outputs": [],
   "source": [
    "import numpy as np\n",
    "import tensorflow as tf\n",
    "from tensorflow import keras\n",
    "import matplotlib.pyplot as plt"
   ]
  },
  {
   "cell_type": "code",
   "execution_count": 2,
   "metadata": {},
   "outputs": [],
   "source": [
    "mnist = keras.datasets.fashion_mnist\n",
    "\n",
    "# The load data function returns images. \n",
    "# We split them into training and testing examples\n",
    "\n",
    "(train_x, train_y), (test_x, test_y) = mnist.load_data()"
   ]
  },
  {
   "cell_type": "code",
   "execution_count": 3,
   "metadata": {
    "scrolled": true
   },
   "outputs": [
    {
     "data": {
      "text/plain": [
       "<matplotlib.image.AxesImage at 0x21882ed6da0>"
      ]
     },
     "execution_count": 3,
     "metadata": {},
     "output_type": "execute_result"
    },
    {
     "data": {
      "image/png": "[encoded data removed]",
      "text/plain": [
       "<Figure size 432x288 with 1 Axes>"
      ]
     },
     "metadata": {
      "needs_background": "light"
     },
     "output_type": "display_data"
    }
   ],
   "source": [
    "plt.imshow(train_x[0], cmap = 'binary')"
   ]
  },
  {
   "cell_type": "markdown",
   "metadata": {},
   "source": [
    "We now normalize the data set for the better woking of the algorithm.\n"
   ]
  },
  {
   "cell_type": "code",
   "execution_count": 4,
   "metadata": {},
   "outputs": [],
   "source": [
    "# train_x, test_x = train_x / 255.0 , test_x / 255.0  <--- This is correct too!\n",
    "\n",
    "train_x = tf.keras.utils.normalize(train_x)\n",
    "test_x  = tf.keras.utils.normalize(test_x)\n"
   ]
  },
  {
   "cell_type": "code",
   "execution_count": 5,
   "metadata": {
    "scrolled": false
   },
   "outputs": [
    {
     "data": {
      "text/plain": [
       "<matplotlib.image.AxesImage at 0x21887a34470>"
      ]
     },
     "execution_count": 5,
     "metadata": {},
     "output_type": "execute_result"
    },
    {
     "data": {
      "image/png": "[encoded data removed]",
      "text/plain": [
       "<Figure size 432x288 with 1 Axes>"
      ]
     },
     "metadata": {
      "needs_background": "light"
     },
     "output_type": "display_data"
    }
   ],
   "source": [
    "plt.imshow(test_x[0], cmap = 'binary')"
   ]
  },
  {
   "cell_type": "markdown",
   "metadata": {},
   "source": [
    "# Defining the Model\n",
    "\n",
    "We define our sequential Layer now\n",
    "\n",
    "**Layer 1** A Flatten layer to make the 2D array of the images to a 1D as the input layer cannot accept such an array\n",
    "\n",
    "**Layer 2** A dense layer with 128 neurons/units. We use the **relu** activation as negative values arent prefered for classification. More info will be found at the end of the exercise.\n",
    "\n",
    "**Layer 3** A dense layer with 10 output nuerons. We use the **softmax** activation as wee need the one with the highest propability. It is also explained at the end of the exercise."
   ]
  },
  {
   "cell_type": "code",
   "execution_count": 6,
   "metadata": {},
   "outputs": [],
   "source": [
    "model = keras.Sequential([   keras.layers.Flatten(),\n",
    "                             keras.layers.Dense(128, activation = 'relu'),\n",
    "                             keras.layers.Dense(10, activation = 'softmax')  ])"
   ]
  },
  {
   "cell_type": "markdown",
   "metadata": {},
   "source": [
    "# Compiling the Model\n",
    "\n",
    "* The optimizer we use is the **ADAM** aka **Adaptive Moment Estimation** one. Its it better than the SGD algo as its better suited for sparce gradients. Its great on problems involving noise too. It is covered in detail at the end of the exercise.  \n",
    "\n",
    "\n",
    "* Our **loss** function for this time will be, **sparse_categorical_crossentropy**. This is great for multiclass classification problems. This is bcoz we dont need a *hot ended target*. Otherwise, its better to go for a normal catergorical crossentropy.\n",
    "\n",
    "\n",
    "* We will be trying to maximize accuracy rather than minimizing loss as its a classification problem. Hence we use **metrics** of **accuracy**"
   ]
  },
  {
   "cell_type": "code",
   "execution_count": 7,
   "metadata": {
    "scrolled": true
   },
   "outputs": [
    {
     "name": "stdout",
     "output_type": "stream",
     "text": [
      "WARNING:tensorflow:From C:\\ProgramData\\Anaconda3\\lib\\site-packages\\tensorflow\\python\\ops\\resource_variable_ops.py:435: colocate_with (from tensorflow.python.framework.ops) is deprecated and will be removed in a future version.\n",
      "Instructions for updating:\n",
      "Colocations handled automatically by placer.\n"
     ]
    }
   ],
   "source": [
    "model.compile(optimizer = 'adam',\n",
    "             loss = 'sparse_categorical_crossentropy',\n",
    "             metrics = ['accuracy'])"
   ]
  },
  {
   "cell_type": "markdown",
   "metadata": {},
   "source": [
    "# Training and Testing "
   ]
  },
  {
   "cell_type": "code",
   "execution_count": 8,
   "metadata": {
    "scrolled": true
   },
   "outputs": [
    {
     "name": "stdout",
     "output_type": "stream",
     "text": [
      "Epoch 1/5\n",
      "60000/60000 [==============================] - 3s 45us/sample - loss: 0.4924 - acc: 0.8238\n",
      "Epoch 2/5\n",
      "60000/60000 [==============================] - 3s 53us/sample - loss: 0.3634 - acc: 0.8670\n",
      "Epoch 3/5\n",
      "60000/60000 [==============================] - 2s 38us/sample - loss: 0.3271 - acc: 0.8782\n",
      "Epoch 4/5\n",
      "60000/60000 [==============================] - 3s 52us/sample - loss: 0.3017 - acc: 0.8885\n",
      "Epoch 5/5\n",
      "60000/60000 [==============================] - 2s 40us/sample - loss: 0.2860 - acc: 0.8933\n"
     ]
    },
    {
     "data": {
      "text/plain": [
       "<tensorflow.python.keras.callbacks.History at 0x2188ac17358>"
      ]
     },
     "execution_count": 8,
     "metadata": {},
     "output_type": "execute_result"
    }
   ],
   "source": [
    "model.fit(train_x, train_y, \n",
    "          epochs = 5)"
   ]
  },
  {
   "cell_type": "code",
   "execution_count": 9,
   "metadata": {
    "scrolled": false
   },
   "outputs": [
    {
     "name": "stdout",
     "output_type": "stream",
     "text": [
      "10000/10000 [==============================] - 0s 21us/sample - loss: 0.3391 - acc: 0.8784\n"
     ]
    },
    {
     "data": {
      "text/plain": [
       "[0.3390851384162903, 0.8784]"
      ]
     },
     "execution_count": 9,
     "metadata": {},
     "output_type": "execute_result"
    }
   ],
   "source": [
    "model.evaluate(test_x, test_y)"
   ]
  },
  {
   "cell_type": "markdown",
   "metadata": {},
   "source": [
    "#  RELU Activation\n",
    "\n",
    "Does something like:\n",
    "\n",
    "```python\n",
    "if input > 0:\n",
    "    return input\n",
    "else:\n",
    "    return 0\n",
    "```\n",
    "\n",
    "<img src = \"Data/Pics/2.1.png\" style=\"height:250px;\">"
   ]
  },
  {
   "cell_type": "markdown",
   "metadata": {},
   "source": [
    "# SoftMax Activation\n",
    "\n",
    "Used for mulit class classification problems. We generate a propability for each class and the highest confident one is carried over.\n",
    "\n",
    "# ADAM Optimizer\n",
    "\n",
    "* It requires lesser memory\n",
    "* Appropriate for sparse gradients\n",
    "* Uses Adaptive Gradient descent. Maintains per-parameter learning rate.\n",
    "* Does RMS loss for optimizer calculation"
   ]
  }
 ],
 "metadata": {
  "kernelspec": {
   "display_name": "Python 3",
   "language": "python",
   "name": "python3"
  },
  "language_info": {
   "codemirror_mode": {
    "name": "ipython",
    "version": 3
   },
   "file_extension": ".py",
   "mimetype": "text/x-python",
   "name": "python",
   "nbconvert_exporter": "python",
   "pygments_lexer": "ipython3",
   "version": "3.7.3"
  }
 },
 "nbformat": 4,
 "nbformat_minor": 2
}
