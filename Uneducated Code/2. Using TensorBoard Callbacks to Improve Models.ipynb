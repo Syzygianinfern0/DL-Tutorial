{
 "cells": [
  {
   "cell_type": "markdown",
   "metadata": {},
   "source": [
    "from tensorflow.keras.callbacks import TensorBoard\n",
    "import time\n",
    "\n",
    "import tensorflow as tf\n",
    "%matplotlib inline\n",
    "\n",
    "mnist = tf.keras.datasets.mnist\n",
    "(x_train, y_train),(x_test, y_test) = mnist.load_data()\n",
    "\n",
    "x_train = tf.keras.utils.normalize(x_train, axis=1)\n",
    "x_test = tf.keras.utils.normalize(x_test, axis=1)\n",
    "\n",
    "dense_layers = [0,1,2]\n",
    "layer_sizes = [32, 64, 128]\n",
    "\n",
    "       \n",
    "for dense_layer in dense_layers:\n",
    "    for layer_size in layer_sizes:\n",
    "        NAME = \"Lesson-1-{}-dense-{}-size-{}\".format(dense_layer, layer_size, time.time())\n",
    "        \n",
    "        model = tf.keras.Sequential()\n",
    "        \n",
    "        model.add(tf.keras.layers.Flatten())  \n",
    "        for _ in range(dense_layer):\n",
    "            model.add(tf.keras.layers.Dense(layer_size, activation=tf.nn.relu)) \n",
    "        model.add(tf.keras.layers.Dense(10, activation=tf.nn.softmax)) \n",
    "        \n",
    "        tensorboard = TensorBoard(log_dir=\"logs1/{}\".format(NAME))\n",
    "        \n",
    "        model.compile(optimizer='adam',\n",
    "                      loss='sparse_categorical_crossentropy',\n",
    "                      metrics=['accuracy'])\n",
    "\n",
    "        model.fit(x_train, y_train, \n",
    "                  epochs=10,\n",
    "                  validation_split=0.3,\n",
    "                  callbacks=[tensorboard])"
   ]
  },
  {
   "cell_type": "code",
   "execution_count": null,
   "metadata": {},
   "outputs": [],
   "source": []
  }
 ],
 "metadata": {
  "kernelspec": {
   "display_name": "Python 3",
   "language": "python",
   "name": "python3"
  },
  "language_info": {
   "codemirror_mode": {
    "name": "ipython",
    "version": 3
   },
   "file_extension": ".py",
   "mimetype": "text/x-python",
   "name": "python",
   "nbconvert_exporter": "python",
   "pygments_lexer": "ipython3",
   "version": "3.7.3"
  }
 },
 "nbformat": 4,
 "nbformat_minor": 2
}
